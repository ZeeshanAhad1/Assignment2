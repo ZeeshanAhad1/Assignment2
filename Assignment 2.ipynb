{
 "cells": [
  {
   "cell_type": "code",
   "execution_count": 2,
   "id": "ce99beb6-cf23-4a1f-8772-3a210c7f1843",
   "metadata": {},
   "outputs": [
    {
     "data": {
      "text/plain": [
       "' Sometimes, we want to comment multiple lines of code but with the condition that we can uncomment any line of the commented code without affecting other commented lines. In such cases we use some short cut keys. \\n\\nFirst we select the segment of the code we want to comment, then\\npress these keys according to the platform you are using to code:\\n\\nVisual Studio : \" Ctrl + k then ctrl + c\\nJupyter Notebook : ctrl + /   \\nPycharm : ctrl + shift + /\\n\\n# After applying the short cut keys, each and every line that comes under the selected segment will be seperately commenetd by #. You can uncomment any line of the commented code, simply by removing # from that line.\\n'"
      ]
     },
     "execution_count": 2,
     "metadata": {},
     "output_type": "execute_result"
    }
   ],
   "source": [
    "# Q1. How do you comment code in Python? What are the different types of comments?\n",
    "\n",
    "# Answer Q1 : \n",
    "\n",
    "''' We comment code in python by using # or \" or ' But before doing that let us take the full knowledge of it.\n",
    "\n",
    "There are three ways in python by which we can comment code '''\n",
    "\n",
    "# Method 1 : \n",
    "\n",
    "''' If we want to comment a single line of our code in python, then we use # on the starting of that line. For example - \n",
    "# I am happy\n",
    "# a + b \n",
    "# print(\"How are you doing\")\n",
    "\n",
    "Each and every statement after # will be a comment. Python will not considered it on runtime. '''\n",
    "\n",
    "# Method 2 : \n",
    "\n",
    "'''There are also some situations, when we want to comment multiple lines of code at once. In such cases we use \"\"\" at the starting and end of the part of code we want to comment. For example : '''\n",
    "\n",
    "\"\"\" I am happy\n",
    " a + b \n",
    " print(\"How are you doing\") \"\"\"\n",
    "\n",
    "# We can also use ''' instead of \"\"\" For example -\n",
    "''' I am happy\n",
    " a + b \n",
    " print(\"How are you doing\") '''\n",
    "# Each and every statement after and before \"\"\" or '''  will be a comment. Python will not considered it on runtime.\n",
    "\n",
    " # Method 3 :\n",
    "''' Sometimes, we want to comment multiple lines of code but with the condition that we can uncomment any line of the commented code without affecting other commented lines. In such cases we use some short cut keys. \n",
    "\n",
    "First we select the segment of the code we want to comment, then\n",
    "press these keys according to the platform you are using to code:\n",
    "\n",
    "Visual Studio : \" Ctrl + k then ctrl + c\n",
    "Jupyter Notebook : ctrl + /   \n",
    "Pycharm : ctrl + shift + /\n",
    "\n",
    "# After applying the short cut keys, each and every line that comes under the selected segment will be seperately commenetd by #. You can uncomment any line of the commented code, simply by removing # from that line.\n",
    "'''"
   ]
  },
  {
   "cell_type": "code",
   "execution_count": 3,
   "id": "9171304a-74d1-444f-896a-fe39721a5fe1",
   "metadata": {},
   "outputs": [],
   "source": [
    "# Q2. What are variables in Python? How do you declare and assign values to variables?\n",
    "\n",
    "# Answer Q2 : \n",
    "\n",
    "'''In programming we always have a need to store some values so that we can use it as many times as we want without writing the same value again and again. For this, we use variables.\n",
    "In other words, Variable is used to store values of data types such as int, float, string, etc. Once we defined a variable and put a value in it, whenever we need that value we can call the variable name and access that value.\n",
    "'''\n",
    "\n",
    "# We can declare a variable by any name we want but it should follow the rules of naming convention. \n",
    "# We usually defined the variable name accroding to the value we are going to store. For example if storing the marks, variable name will be marks or related to it. Similarly, if storing money then variable name will be money or related to it.\n",
    "\n",
    "# So first, write the name of variable then put equal sign (=) and then assign (enter) the value you want to store. You can store the value of any data type. For example :\n",
    "marks = 95\n",
    "name = \"Zeeshan Ahad\"\n",
    "country = \"India\"\n",
    "f = False"
   ]
  },
  {
   "cell_type": "code",
   "execution_count": 4,
   "id": "572da758-2512-4c2c-b0dc-5bcfdc94e769",
   "metadata": {},
   "outputs": [
    {
     "name": "stdout",
     "output_type": "stream",
     "text": [
      "45\n",
      "[34, 67, True, 7.88, 'Hello']\n",
      "4573\n",
      "<class 'str'>\n",
      "<class 'str'>\n",
      "<class 'int'>\n"
     ]
    }
   ],
   "source": [
    "# Q3. How do you convert one data type to another in Python?\n",
    "\n",
    "# Answer Q3 :\n",
    "\n",
    "# To convert one data type into other we use different conversion method. \n",
    "# We first write the data type in which we want to convert followed by brackets \"()\" then under the bracket we write the value which we want to convert to a different data type.\n",
    "# Some examples are : \n",
    "\n",
    "# Convert Int to String : str(int)\n",
    "a = 45       # Value assigned to \"a\" is a integer\n",
    "a = str(a)   # Now, value assigned to \"a\" is a string\n",
    "print(a)\n",
    "\n",
    "\n",
    "# Convert List to String : str(list)\n",
    "b = [34,67,True,7.88,\"Hello\"]     # Value assigned to \"b\" is a list\n",
    "b = str(b)   # Now, value assigned to \"b\" is a string\n",
    "print(b)\n",
    "\n",
    "# Convert String to Int : int(str)\n",
    "c = \"4573\"   # Value assigned to \"c\" is a String\n",
    "c = int(c)   # Now, value assigned to \"c\" is a integer\n",
    "print(c)\n",
    "\n",
    "# Proof\n",
    "\n",
    "print(type(a)) # Should be String\n",
    "print(type(b)) # Should be String\n",
    "print(type(c)) # Should be Int\n",
    "\n",
    "# Similarly, we can change any data type to any other data type.\n",
    "\n"
   ]
  },
  {
   "cell_type": "code",
   "execution_count": 6,
   "id": "82cc668e-1729-4e59-8227-2087c59e1db3",
   "metadata": {},
   "outputs": [],
   "source": [
    "# Q4. How do you write and execute a Python script from the command line?\n",
    "\n",
    "# Answer Q4 :\n",
    "\n",
    "# Step 1 : Write a python code in any platform and save it in py format.\n",
    "# Step 2 : Copy the path where the python file is saved\n",
    "# Step 3 : Open your desired command line \n",
    "# Step 5 : Write cd, then give a space and then paste the path copied earlier. Then press enter\n",
    "# Step 6 : Now, Write python, then give a space and then your file name, which is in the format of py. Press enter\n",
    "\n",
    "# Now the python file will be executed !!\n"
   ]
  },
  {
   "cell_type": "code",
   "execution_count": 7,
   "id": "e7bb739e-a69a-47e8-83ac-152ae8f9a943",
   "metadata": {},
   "outputs": [
    {
     "name": "stdout",
     "output_type": "stream",
     "text": [
      "[2, 3]\n"
     ]
    }
   ],
   "source": [
    "# Q5. Given a list my_list = [1, 2, 3, 4, 5], write the code to slice the list and obtain the sub-list [2, 3].\n",
    "\n",
    "# Answer Q5 : \n",
    "\n",
    "my_list = [1, 2, 3, 4, 5]\n",
    "print(my_list[1 : 3]) # Answer will be [2,3]\n",
    "\n"
   ]
  },
  {
   "cell_type": "code",
   "execution_count": 8,
   "id": "e17ec368-b9e0-4e9c-b089-6b81eb889cf8",
   "metadata": {},
   "outputs": [
    {
     "name": "stdout",
     "output_type": "stream",
     "text": [
      "<class 'complex'>\n",
      "<class 'complex'>\n",
      "<class 'complex'>\n"
     ]
    }
   ],
   "source": [
    "# Q6. What is a complex number in mathematics, and how is it represented in Python?\n",
    "\n",
    "# Answer Q6:\n",
    "\n",
    "'''In Mathematics, complex number is the sum of real and imaginary number. \n",
    " It is always in the form of a + bi, where a and b are real numbers. A is the real part of the complex number and bi is the imaginary part of complex number'''\n",
    "\n",
    "''' In python, unlike mathematics, complex numbers are represented in the form of a + bj, where a and be are real numbers. \n",
    "In the imaginary part there cannot be any other alphabet except j or J when defining in python. For example -      '''\n",
    "\n",
    "a = 3 + 2j\n",
    "b = 2 - 7j\n",
    "c = 7 - 2j\n",
    "\n",
    "# Proof\n",
    "print(type(a)) # Answer will be \"complex\"\n",
    "print(type(b)) # Answer will be \"complex\"\n",
    "print(type(c)) # Answer will be \"complex\"\n"
   ]
  },
  {
   "cell_type": "code",
   "execution_count": 9,
   "id": "5e7c2f08-9f00-43a6-956a-291d0c6871e4",
   "metadata": {},
   "outputs": [],
   "source": [
    "# Q7. What is the correct way to declare a variable named age and assign the value 25 to it?\n",
    "\n",
    "# Answer Q7 :\n",
    "\n",
    "# Two declare a variable named age, write age followed by equal sign \"=\" and then just assign the value 25 to it. like : \n",
    "age = 25\n",
    "\n",
    "# You don't need to specify a data type because Python indicates the data type on its own.\n",
    "  "
   ]
  },
  {
   "cell_type": "code",
   "execution_count": 10,
   "id": "52b3e793-8822-47d1-8bbe-d196414f5e1d",
   "metadata": {},
   "outputs": [
    {
     "name": "stdout",
     "output_type": "stream",
     "text": [
      "<class 'float'>\n"
     ]
    }
   ],
   "source": [
    "# Q8. Declare a variable named price and assign the value 9.99 to it. What data type does this variable belong to?\n",
    "\n",
    "# Answer Q8 :\n",
    "\n",
    "price = 9.99\n",
    "\n",
    "# The variable \"price\" belongs to float data type\n",
    "# Proof : \n",
    "\n",
    "print(type(price)) # Answer will be float"
   ]
  },
  {
   "cell_type": "code",
   "execution_count": 11,
   "id": "91b80c4c-e984-429e-8dc6-2c1d867e8ac3",
   "metadata": {},
   "outputs": [
    {
     "name": "stdout",
     "output_type": "stream",
     "text": [
      "Zeeshan Ahad\n"
     ]
    }
   ],
   "source": [
    "# Q9. Create a variable named name and assign your full name to it as a string. How would you print the value of this variable?\n",
    "\n",
    "# Answer Q9 : \n",
    "\n",
    "name = \"Zeeshan Ahad\"\n",
    "\n",
    "# To print the value of this variable we will simply call the print function and pass the variable name under the bracket as follows :\n",
    "\n",
    "print(name) # Answer we will get will be Zeeshan Ahad"
   ]
  },
  {
   "cell_type": "code",
   "execution_count": 12,
   "id": "815bab90-1e09-449c-a752-ce2d4b2a6547",
   "metadata": {},
   "outputs": [
    {
     "name": "stdout",
     "output_type": "stream",
     "text": [
      "World\n",
      "World\n"
     ]
    }
   ],
   "source": [
    "# Q10. Given the string \"Hello, World!\", extract the substring \"World\".\n",
    "\n",
    "# Answer Q10 : \n",
    "\n",
    "my_string = \"Hello, World!\"\n",
    "print(my_string[7 : 12]) # Answer will be \"World\"\n",
    "print(my_string[-6 : -1]) # Answer will be \"World\""
   ]
  },
  {
   "cell_type": "code",
   "execution_count": 13,
   "id": "24356c83-97e8-46a6-8498-a01a0c2b1b59",
   "metadata": {},
   "outputs": [],
   "source": [
    "# Q11. Create a variable named \"is_student\" and assign it a boolean value indicating whether you are currently a student or not.\n",
    "\n",
    "# Answer Q11 : \n",
    "\n",
    "is_student = True\n",
    "\n",
    "# True means currently I am a student and False means I am not a student currently."
   ]
  }
 ],
 "metadata": {
  "kernelspec": {
   "display_name": "Python 3 (ipykernel)",
   "language": "python",
   "name": "python3"
  },
  "language_info": {
   "codemirror_mode": {
    "name": "ipython",
    "version": 3
   },
   "file_extension": ".py",
   "mimetype": "text/x-python",
   "name": "python",
   "nbconvert_exporter": "python",
   "pygments_lexer": "ipython3",
   "version": "3.10.8"
  }
 },
 "nbformat": 4,
 "nbformat_minor": 5
}
